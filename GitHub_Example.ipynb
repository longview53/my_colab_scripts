{
  "nbformat": 4,
  "nbformat_minor": 0,
  "metadata": {
    "colab": {
      "provenance": [],
      "include_colab_link": true
    },
    "kernelspec": {
      "name": "python3",
      "display_name": "Python 3"
    },
    "language_info": {
      "name": "python"
    }
  },
  "cells": [
    {
      "cell_type": "markdown",
      "metadata": {
        "id": "view-in-github",
        "colab_type": "text"
      },
      "source": [
        "<a href=\"https://colab.research.google.com/github/longview53/my_colab_scripts/blob/main/GitHub_Example.ipynb\" target=\"_parent\"><img src=\"https://colab.research.google.com/assets/colab-badge.svg\" alt=\"Open In Colab\"/></a>"
      ]
    },
    {
      "cell_type": "markdown",
      "source": [
        "##Example of acessing GitHub from Colab"
      ],
      "metadata": {
        "id": "DGYYLdIMCSmX"
      }
    },
    {
      "cell_type": "code",
      "execution_count": 1,
      "metadata": {
        "colab": {
          "base_uri": "https://localhost:8080/"
        },
        "id": "aWG9z2AZCQHH",
        "outputId": "e2fbf7fa-c9e8-4d8d-9715-8607703a45d7"
      },
      "outputs": [
        {
          "output_type": "stream",
          "name": "stdout",
          "text": [
            "Welcome to Github\n"
          ]
        }
      ],
      "source": [
        "print(\"Welcome to Github\")"
      ]
    },
    {
      "cell_type": "code",
      "source": [
        "# Change #1"
      ],
      "metadata": {
        "id": "l2NjiLMXOR9H"
      },
      "execution_count": 2,
      "outputs": []
    },
    {
      "cell_type": "code",
      "source": [
        "# Change #2"
      ],
      "metadata": {
        "id": "xL998S1vRUXm"
      },
      "execution_count": 3,
      "outputs": []
    },
    {
      "cell_type": "code",
      "source": [
        "# Change #3"
      ],
      "metadata": {
        "id": "uOSi90GAraNG"
      },
      "execution_count": 4,
      "outputs": []
    },
    {
      "cell_type": "code",
      "source": [
        "# Change #4"
      ],
      "metadata": {
        "id": "kNhQqJqrdQS8"
      },
      "execution_count": 5,
      "outputs": []
    }
  ]
}