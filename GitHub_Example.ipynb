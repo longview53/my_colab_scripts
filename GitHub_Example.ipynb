{
  "nbformat": 4,
  "nbformat_minor": 0,
  "metadata": {
    "colab": {
      "provenance": [],
      "mount_file_id": "1pK-C68QEOJAi54vydclzDJy5nGIYJmd4",
      "authorship_tag": "ABX9TyM/aN4hFK3qNt+sRgXipDdp",
      "include_colab_link": true
    },
    "kernelspec": {
      "name": "python3",
      "display_name": "Python 3"
    },
    "language_info": {
      "name": "python"
    }
  },
  "cells": [
    {
      "cell_type": "markdown",
      "metadata": {
        "id": "view-in-github",
        "colab_type": "text"
      },
      "source": [
        "<a href=\"https://colab.research.google.com/github/longview53/my_colab_scripts/blob/main/GitHub_Example.ipynb\" target=\"_parent\"><img src=\"https://colab.research.google.com/assets/colab-badge.svg\" alt=\"Open In Colab\"/></a>"
      ]
    },
    {
      "cell_type": "markdown",
      "source": [
        "##Example of acessing GitHub from Colab"
      ],
      "metadata": {
        "id": "DGYYLdIMCSmX"
      }
    },
    {
      "cell_type": "code",
      "execution_count": null,
      "metadata": {
        "colab": {
          "base_uri": "https://localhost:8080/"
        },
        "id": "aWG9z2AZCQHH",
        "outputId": "40d956e2-490f-404a-880f-b50e137c35d3"
      },
      "outputs": [
        {
          "output_type": "stream",
          "name": "stdout",
          "text": [
            "Welcome to Github\n"
          ]
        }
      ],
      "source": [
        "print(\"Welcome to Github\")"
      ]
    },
    {
      "cell_type": "code",
      "source": [
        "# Change #1"
      ],
      "metadata": {
        "id": "l2NjiLMXOR9H"
      },
      "execution_count": null,
      "outputs": []
    },
    {
      "cell_type": "code",
      "source": [
        "# Change #2"
      ],
      "metadata": {
        "id": "xL998S1vRUXm"
      },
      "execution_count": null,
      "outputs": []
    },
    {
      "cell_type": "code",
      "source": [
        "# Change #3"
      ],
      "metadata": {
        "id": "uOSi90GAraNG"
      },
      "execution_count": null,
      "outputs": []
    }
  ]
}